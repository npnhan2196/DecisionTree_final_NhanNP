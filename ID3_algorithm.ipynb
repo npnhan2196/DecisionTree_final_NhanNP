{
  "nbformat": 4,
  "nbformat_minor": 0,
  "metadata": {
    "colab": {
      "provenance": []
    },
    "kernelspec": {
      "name": "python3",
      "display_name": "Python 3"
    },
    "language_info": {
      "name": "python"
    }
  },
  "cells": [
    {
      "cell_type": "code",
      "execution_count": 1,
      "metadata": {
        "id": "xkrH4lseDN6r"
      },
      "outputs": [],
      "source": [
        "#Import Library\n",
        "import numpy as np\n",
        "import pandas as pd\n",
        "import pydot\n",
        "import uuid"
      ]
    },
    {
      "cell_type": "code",
      "source": [
        "#Load data\n",
        "eps = np.finfo(float).eps\n",
        "\n",
        "df = pd.read_csv('/content/data_forecast1.csv')\n",
        "# df = pd.read_csv('/content/data_gold.csv')\n",
        "print('Data:\\n',df)\n",
        "\n"
      ],
      "metadata": {
        "id": "IgyilECiFfUW",
        "colab": {
          "base_uri": "https://localhost:8080/"
        },
        "outputId": "958f52f3-919e-413e-a51e-189b73f5d17d"
      },
      "execution_count": 16,
      "outputs": [
        {
          "output_type": "stream",
          "name": "stdout",
          "text": [
            "Data:\n",
            "      Outlook Temperature Humidity   Windy        Play\n",
            "0      sunny         hot     high    weak  don't play\n",
            "1      sunny         hot     high  strong  don't play\n",
            "2   overcast         hot     high    weak        play\n",
            "3       rain        mild     high    weak        play\n",
            "4       rain        cold   normal    weak        play\n",
            "5       rain        cold   normal  strong  don't play\n",
            "6   overcast        cold   normal  strong        play\n",
            "7      sunny        mild     high    weak  don't play\n",
            "8      sunny        cold   normal    weak        play\n",
            "9       rain        mild   normal    weak        play\n",
            "10     sunny        mild   normal  strong        play\n",
            "11  overcast        mild     high    weak        play\n",
            "12  overcast         hot   normal    weak        play\n",
            "13      rain        mild     high  strong  don't play\n",
            "14  overcast        mild     high  strong  don't play\n"
          ]
        }
      ]
    },
    {
      "cell_type": "code",
      "source": [
        "#Find the Entropy of whole dataset\n",
        "def find_entropy(df):\n",
        "    Class = df.keys()[-1]\n",
        "    entropy = 0\n",
        "    values = df[Class].unique()\n",
        "    # print(\"values la: \", values)\n",
        "    for value in values:\n",
        "        fraction = df[Class].value_counts()[value]/len(df[Class])\n",
        "        entropy += -fraction*np.log2(fraction) # -(play/tong)*log2(play/tong)+ -(don't play/tong)*log2(dont' play/tong)\n",
        "    return entropy"
      ],
      "metadata": {
        "id": "eCBdLDs4HQ0p"
      },
      "execution_count": 18,
      "outputs": []
    },
    {
      "cell_type": "code",
      "source": [
        "#Define a function to calculate entropy of each attribute\n",
        "def find_entropy_attribute(df,attribute):\n",
        "    Class = df.keys()[-1]\n",
        "    target_variables = df[Class].unique()  #This gives all 'Play' and 'Don't Play\n",
        "    variables = df[attribute].unique()    #This gives different features in that attribute (like 'Hot','Cold' in Temperature)\n",
        "    entropy2 = 0\n",
        "    for variable in variables:\n",
        "        entropy = 0\n",
        "        for target_variable in target_variables:\n",
        "            num = len(df[attribute][df[attribute]==variable][df[Class] ==target_variable]) #Numerator\n",
        "            den = len(df[attribute][df[attribute]==variable]) #Denominator\n",
        "            fraction = num/(den+eps)\n",
        "            entropy += -fraction*np.log2(fraction+eps)\n",
        "        fraction2 = den/len(df)\n",
        "        entropy2 += -fraction2*entropy\n",
        "    return (abs(entropy2))"
      ],
      "metadata": {
        "id": "NGTMlFjhHRZ-"
      },
      "execution_count": 19,
      "outputs": []
    },
    {
      "cell_type": "code",
      "source": [
        "#Calculate Information Gain each attributes function\n",
        "def ig(e_dataset,e_attr):\n",
        "    return(e_dataset-e_attr)"
      ],
      "metadata": {
        "id": "XRoUtos5HTG1"
      },
      "execution_count": 5,
      "outputs": []
    },
    {
      "cell_type": "code",
      "source": [
        "#Find attribute which has maximum IG\n",
        "def find_winner(df):\n",
        "    IG = []\n",
        "    for key in df.keys()[:-1]:\n",
        "        IG.append(find_entropy(df)-find_entropy_attribute(df,key))\n",
        "    max = df.keys()[:-1][np.argmax(IG)]\n",
        "    return max"
      ],
      "metadata": {
        "id": "lzypQJ8NHUS0"
      },
      "execution_count": 6,
      "outputs": []
    },
    {
      "cell_type": "code",
      "source": [
        "#Function to get sub attribute of node\n",
        "def get_subtable(df, node,value):\n",
        "    return df[df[node] == value].reset_index(drop=True)"
      ],
      "metadata": {
        "id": "mc0yjyj4HWKX"
      },
      "execution_count": 7,
      "outputs": []
    },
    {
      "cell_type": "code",
      "source": [
        "#Build a decition tree\n",
        "def buildTree(df,tree=None): \n",
        "    Class = df.keys()[-1]\n",
        "    #Get attribute with maximum information gain\n",
        "    node = find_winner(df)\n",
        "    # node_root_temp =[]\n",
        "    # node_root_temp.append(find_winner(df)) \n",
        "    attValue = np.unique(df[node])\n",
        "    #Create an empty dictionary to create tree    \n",
        "    if tree is None:                    \n",
        "        tree={}\n",
        "        tree[node] = {}\n",
        "    #Make loop to construct a tree by calling this function recursively. \n",
        "    #Check if the subset is pure and stops if it is pure. \n",
        "    for value in attValue:\n",
        "        subtable = get_subtable(df,node,value)\n",
        "        clValue,counts = np.unique(subtable[Class],return_counts=True)                        \n",
        "        if len(counts)==1:#Checking purity of subset\n",
        "            tree[node][value] = clValue[0]                                                    \n",
        "        else:\n",
        "            tree[node][value] = buildTree(subtable) #Calling the function recursively   \n",
        "            \n",
        "    return tree"
      ],
      "metadata": {
        "id": "yAFNuPI9HXWH"
      },
      "execution_count": 20,
      "outputs": []
    },
    {
      "cell_type": "code",
      "source": [
        "#Print report and prediction base on decision tree\n",
        "print(\"\\n\\nGiá Trị của Entropy_node\", df.keys()[-1], \"là:\",find_entropy(df),\"\\n\")\n",
        "a_entropy2 = {k:find_entropy_attribute(df,k) for k in df.keys()[:-1]}\n",
        "print(\"Entropy cua tung attribute la: \",a_entropy2,\"\\n\")\n",
        "IG = {k:ig(find_entropy(df),a_entropy2[k]) for k in a_entropy2}\n",
        "print(\"Information Gain cua tung attribute là\" , IG,\"\\n\")\n",
        "print(\"\\n\") \n",
        "\n",
        "t = buildTree(df)\n",
        "import pprint\n",
        "pprint.pprint(t)\n",
        "print(\"\\n\")\n",
        "\n",
        "#Write result to txt file\n",
        "f = open(\"resultID3_v2.txt\", \"w\")\n",
        "f.write(str(f'entropy_node la: \\n'))\n",
        "f.write(str(find_entropy(df)))\n",
        "f.write(\"\\n\\n\")\n",
        "f.write(\"Entropy cua tung attribute la: \\n\")\n",
        "f.write(str(a_entropy2))\n",
        "f.write(\"\\n\\n\")\n",
        "f.write(\"Information Gain là: \\n\")\n",
        "f.write(str(IG))\n",
        "f.write(\"\\n\\n\")\n",
        "f.write(\"Tree: \\n\")\n",
        "f.write(str(t))\n",
        "f.write(\"\\n\\n\")\n",
        "f.close()"
      ],
      "metadata": {
        "colab": {
          "base_uri": "https://localhost:8080/"
        },
        "id": "8ZLRKacjHdal",
        "outputId": "bedc4938-e1ac-40b6-90e6-dca09d78701a"
      },
      "execution_count": 22,
      "outputs": [
        {
          "output_type": "stream",
          "name": "stdout",
          "text": [
            "\n",
            "\n",
            "Giá Trị của Entropy_node Play là: 0.9709505944546686 \n",
            "\n",
            "Entropy cua tung attribute la:  {'Outlook': 0.8879430945988993, 'Temperature': 0.9427806300050855, 'Humidity': 0.7851454315650669, 'Windy': 0.8258410375269674} \n",
            "\n",
            "Information Gain cua tung attribute là {'Outlook': 0.08300749985576927, 'Temperature': 0.028169964449583085, 'Humidity': 0.1858051628896017, 'Windy': 0.14510955692770122} \n",
            "\n",
            "\n",
            "\n",
            "{'Humidity': {'high': {'Outlook': {'overcast': {'Windy': {'strong': \"don't \"\n",
            "                                                                    'play',\n",
            "                                                          'weak': 'play'}},\n",
            "                                   'rain': {'Windy': {'strong': \"don't play\",\n",
            "                                                      'weak': 'play'}},\n",
            "                                   'sunny': \"don't play\"}},\n",
            "              'normal': {'Outlook': {'overcast': 'play',\n",
            "                                     'rain': {'Windy': {'strong': \"don't play\",\n",
            "                                                        'weak': 'play'}},\n",
            "                                     'sunny': 'play'}}}}\n",
            "\n",
            "\n"
          ]
        }
      ]
    },
    {
      "cell_type": "code",
      "source": [
        "#Draw a decíion tree as file png\n",
        "import pydot\n",
        "import uuid\n",
        "\n",
        "def generate_unique_node():\n",
        "    \"\"\" Generate a unique node label.\"\"\"\n",
        "    return str(uuid.uuid1())\n",
        "\n",
        "def create_node(graph, label, shape='oval'):\n",
        "    node = pydot.Node(generate_unique_node(), label=label, shape=shape)\n",
        "    graph.add_node(node)\n",
        "    return node\n",
        "\n",
        "def create_edge(graph, node_parent, node_child, label):\n",
        "    link = pydot.Edge(node_parent, node_child, label=label)\n",
        "    graph.add_edge(link)\n",
        "    return link\n",
        "\n",
        "def walk_tree(graph, dictionary, prev_node=None):\n",
        "    \"\"\" Recursive construction of a decision tree stored as a dictionary \"\"\"\n",
        "    for parent, child in dictionary.items():\n",
        "        # root\n",
        "        if not prev_node: \n",
        "            root = create_node(graph, parent)\n",
        "            walk_tree(graph, child, root)\n",
        "            continue\n",
        "            \n",
        "        # node\n",
        "        if isinstance(child, dict):\n",
        "            for p, c in child.items():\n",
        "                n = create_node(graph, p)\n",
        "                create_edge(graph, prev_node, n, str(parent))\n",
        "                walk_tree(graph, c, n)\n",
        "    \n",
        "        # leaf\n",
        "        else: \n",
        "            leaf = create_node(graph, str(child), shape='box')\n",
        "            create_edge(graph, prev_node, leaf, str(parent))\n",
        "\n",
        "# def plot_tree(dictionary, filename=\"DecisionTree.png\"):\n",
        "#     graph = pydot.Dot(graph_type='graph')\n",
        "#     walk_tree(graph, tree)\n",
        "#     graph.write_png(filename)\n",
        "        \n",
        "\n",
        "tree = dt2 = buildTree(df)\n",
        "# plot_tree(tree)\n",
        "graph = pydot.Dot(graph_type='digraph')\n",
        "walk_tree(graph, tree)\n",
        "\n",
        "graph.write_png(\"DecisionTree_ID3.png\")\n",
        "# print(type())"
      ],
      "metadata": {
        "id": "MzhD76QVKaGb"
      },
      "execution_count": 23,
      "outputs": []
    },
    {
      "cell_type": "code",
      "source": [
        "import cv2\n",
        "from google.colab.patches import cv2_imshow # for image display\n",
        "clusters = 5 # try changing it\n",
        "\n",
        "path=\"/content/DecisionTree_ID3.png\"\n",
        "img = cv2.imread(path, 1)\n",
        "org_img = img\n",
        "print('Org image shape --> ',img.shape)\n",
        "cv2_imshow(img)\n",
        "cv2.destroyAllWindows()"
      ],
      "metadata": {
        "colab": {
          "base_uri": "https://localhost:8080/",
          "height": 441
        },
        "id": "CqAc0Xt2KzjQ",
        "outputId": "9947a11d-13d7-4890-a417-608444ac898f"
      },
      "execution_count": 24,
      "outputs": [
        {
          "output_type": "stream",
          "name": "stdout",
          "text": [
            "Org image shape -->  (407, 769, 3)\n"
          ]
        },
        {
          "output_type": "display_data",
          "data": {
            "text/plain": [
              "<PIL.Image.Image image mode=RGB size=769x407 at 0x7F8BA163BE90>"
            ],
            "image/png": "[encoded data removed]"
          },
          "metadata": {}
        }
      ]
    },
    {
      "cell_type": "code",
      "source": [
        "#Prediction######################################################################################################\n",
        "dt2 = buildTree(df)\n",
        "df2 = pd.DataFrame(data=[['rain', 'hot', 'high', 'strong']],columns=['Outlook', 'Temperature', 'Humidity', 'Windy'])\n",
        "# df2 = pd.DataFrame(data=[['CAO', 'ON DINH', 'THAP', 'THAP']],columns=['USD', 'Inflat (CPI)', 'Quantity Supply', 'Quantity exploit'])\n",
        "\n",
        "def fun(d, t):\n",
        "    \"\"\"\n",
        "    d -- decision tree dictionary\n",
        "    t -- testing examples in form of pandas dataframe\n",
        "    \"\"\"\n",
        "    res = []\n",
        "    for _, e in t.iterrows():\n",
        "        res.append(predict(d, e))\n",
        "    return res\n",
        "\n",
        "def predict(d, e):\n",
        "    \"\"\"\n",
        "    d -- decision tree dictionary\n",
        "    e -- a testing example in form of pandas series\n",
        "    \"\"\"\n",
        "    current_node = list(d.keys())[0]\n",
        "    current_branch = d[current_node][e[current_node]]\n",
        "    # if leaf node value is string then its a decision\n",
        "    if isinstance(current_branch, str):\n",
        "        return current_branch\n",
        "    # else use that node as new searching subtree\n",
        "    else:\n",
        "        return predict(current_branch, e)\n",
        "\n",
        "print(\"Dự đoán quyết định của một điều kiện thời tiết: \\n\",df2 ,\"\\n\\n Kết quả dự đoán là:\",fun(dt2, df2))"
      ],
      "metadata": {
        "colab": {
          "base_uri": "https://localhost:8080/"
        },
        "id": "rFOznOTIXjMp",
        "outputId": "98e0b2c8-0a25-4f20-9f14-06b9dedcd7ce"
      },
      "execution_count": 25,
      "outputs": [
        {
          "output_type": "stream",
          "name": "stdout",
          "text": [
            "Dự đoán quyết định của một điều kiện thời tiết: \n",
            "   Outlook Temperature Humidity   Windy\n",
            "0    rain         hot     high  strong \n",
            "\n",
            " Kết quả dự đoán là: [\"don't play\"]\n"
          ]
        }
      ]
    }
  ]
}