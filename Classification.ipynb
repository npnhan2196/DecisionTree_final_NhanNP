{
  "nbformat": 4,
  "nbformat_minor": 0,
  "metadata": {
    "colab": {
      "provenance": []
    },
    "kernelspec": {
      "name": "python3",
      "display_name": "Python 3"
    },
    "language_info": {
      "name": "python"
    }
  },
  "cells": [
    {
      "cell_type": "code",
      "execution_count": 2,
      "metadata": {
        "id": "4CVbd3Kgwb5B"
      },
      "outputs": [],
      "source": [
        "#Import Lib\n",
        "import pandas as pd\n",
        "from sklearn.tree import DecisionTreeClassifier\n",
        "from sklearn.preprocessing import LabelEncoder"
      ]
    },
    {
      "cell_type": "code",
      "source": [
        "#import Data\n",
        "df = pd.read_csv('/content/data.csv')\n",
        "Class = df.keys()[-1]\n",
        "df.head()"
      ],
      "metadata": {
        "colab": {
          "base_uri": "https://localhost:8080/",
          "height": 206
        },
        "id": "1MgeavYmwkq4",
        "outputId": "7ca448bd-49db-4798-bc21-d7366e4e1f1c"
      },
      "execution_count": 3,
      "outputs": [
        {
          "output_type": "execute_result",
          "data": {
            "text/plain": [
              "        Age Experience      Rank Nationality  Go\n",
              "0  1_Middle   1_Medium  2_Expert          UK   0\n",
              "1  1_Middle     2_High  0_Normal         USA   0\n",
              "2   0_Young      0_Low    1_Good      Others   0\n",
              "3     2_Old      0_Low  0_Normal         USA   0\n",
              "4  1_Middle     2_High  2_Expert         USA   1"
            ],
            "text/html": [
              "\n",
              "  <div id=\"df-3c2ed096-0149-4139-b689-3a75eacae207\">\n",
              "    <div class=\"colab-df-container\">\n",
              "      <div>\n",
              "<style scoped>\n",
              "    .dataframe tbody tr th:only-of-type {\n",
              "        vertical-align: middle;\n",
              "    }\n",
              "\n",
              "    .dataframe tbody tr th {\n",
              "        vertical-align: top;\n",
              "    }\n",
              "\n",
              "    .dataframe thead th {\n",
              "        text-align: right;\n",
              "    }\n",
              "</style>\n",
              "<table border=\"1\" class=\"dataframe\">\n",
              "  <thead>\n",
              "    <tr style=\"text-align: right;\">\n",
              "      <th></th>\n",
              "      <th>Age</th>\n",
              "      <th>Experience</th>\n",
              "      <th>Rank</th>\n",
              "      <th>Nationality</th>\n",
              "      <th>Go</th>\n",
              "    </tr>\n",
              "  </thead>\n",
              "  <tbody>\n",
              "    <tr>\n",
              "      <th>0</th>\n",
              "      <td>1_Middle</td>\n",
              "      <td>1_Medium</td>\n",
              "      <td>2_Expert</td>\n",
              "      <td>UK</td>\n",
              "      <td>0</td>\n",
              "    </tr>\n",
              "    <tr>\n",
              "      <th>1</th>\n",
              "      <td>1_Middle</td>\n",
              "      <td>2_High</td>\n",
              "      <td>0_Normal</td>\n",
              "      <td>USA</td>\n",
              "      <td>0</td>\n",
              "    </tr>\n",
              "    <tr>\n",
              "      <th>2</th>\n",
              "      <td>0_Young</td>\n",
              "      <td>0_Low</td>\n",
              "      <td>1_Good</td>\n",
              "      <td>Others</td>\n",
              "      <td>0</td>\n",
              "    </tr>\n",
              "    <tr>\n",
              "      <th>3</th>\n",
              "      <td>2_Old</td>\n",
              "      <td>0_Low</td>\n",
              "      <td>0_Normal</td>\n",
              "      <td>USA</td>\n",
              "      <td>0</td>\n",
              "    </tr>\n",
              "    <tr>\n",
              "      <th>4</th>\n",
              "      <td>1_Middle</td>\n",
              "      <td>2_High</td>\n",
              "      <td>2_Expert</td>\n",
              "      <td>USA</td>\n",
              "      <td>1</td>\n",
              "    </tr>\n",
              "  </tbody>\n",
              "</table>\n",
              "</div>\n",
              "      <button class=\"colab-df-convert\" onclick=\"convertToInteractive('df-3c2ed096-0149-4139-b689-3a75eacae207')\"\n",
              "              title=\"Convert this dataframe to an interactive table.\"\n",
              "              style=\"display:none;\">\n",
              "        \n",
              "  <svg xmlns=\"http://www.w3.org/2000/svg\" height=\"24px\"viewBox=\"0 0 24 24\"\n",
              "       width=\"24px\">\n",
              "    <path d=\"M0 0h24v24H0V0z\" fill=\"none\"/>\n",
              "    <path d=\"M18.56 5.44l.94 2.06.94-2.06 2.06-.94-2.06-.94-.94-2.06-.94 2.06-2.06.94zm-11 1L8.5 8.5l.94-2.06 2.06-.94-2.06-.94L8.5 2.5l-.94 2.06-2.06.94zm10 10l.94 2.06.94-2.06 2.06-.94-2.06-.94-.94-2.06-.94 2.06-2.06.94z\"/><path d=\"M17.41 7.96l-1.37-1.37c-.4-.4-.92-.59-1.43-.59-.52 0-1.04.2-1.43.59L10.3 9.45l-7.72 7.72c-.78.78-.78 2.05 0 2.83L4 21.41c.39.39.9.59 1.41.59.51 0 1.02-.2 1.41-.59l7.78-7.78 2.81-2.81c.8-.78.8-2.07 0-2.86zM5.41 20L4 18.59l7.72-7.72 1.47 1.35L5.41 20z\"/>\n",
              "  </svg>\n",
              "      </button>\n",
              "      \n",
              "  <style>\n",
              "    .colab-df-container {\n",
              "      display:flex;\n",
              "      flex-wrap:wrap;\n",
              "      gap: 12px;\n",
              "    }\n",
              "\n",
              "    .colab-df-convert {\n",
              "      background-color: #E8F0FE;\n",
              "      border: none;\n",
              "      border-radius: 50%;\n",
              "      cursor: pointer;\n",
              "      display: none;\n",
              "      fill: #1967D2;\n",
              "      height: 32px;\n",
              "      padding: 0 0 0 0;\n",
              "      width: 32px;\n",
              "    }\n",
              "\n",
              "    .colab-df-convert:hover {\n",
              "      background-color: #E2EBFA;\n",
              "      box-shadow: 0px 1px 2px rgba(60, 64, 67, 0.3), 0px 1px 3px 1px rgba(60, 64, 67, 0.15);\n",
              "      fill: #174EA6;\n",
              "    }\n",
              "\n",
              "    [theme=dark] .colab-df-convert {\n",
              "      background-color: #3B4455;\n",
              "      fill: #D2E3FC;\n",
              "    }\n",
              "\n",
              "    [theme=dark] .colab-df-convert:hover {\n",
              "      background-color: #434B5C;\n",
              "      box-shadow: 0px 1px 3px 1px rgba(0, 0, 0, 0.15);\n",
              "      filter: drop-shadow(0px 1px 2px rgba(0, 0, 0, 0.3));\n",
              "      fill: #FFFFFF;\n",
              "    }\n",
              "  </style>\n",
              "\n",
              "      <script>\n",
              "        const buttonEl =\n",
              "          document.querySelector('#df-3c2ed096-0149-4139-b689-3a75eacae207 button.colab-df-convert');\n",
              "        buttonEl.style.display =\n",
              "          google.colab.kernel.accessAllowed ? 'block' : 'none';\n",
              "\n",
              "        async function convertToInteractive(key) {\n",
              "          const element = document.querySelector('#df-3c2ed096-0149-4139-b689-3a75eacae207');\n",
              "          const dataTable =\n",
              "            await google.colab.kernel.invokeFunction('convertToInteractive',\n",
              "                                                     [key], {});\n",
              "          if (!dataTable) return;\n",
              "\n",
              "          const docLinkHtml = 'Like what you see? Visit the ' +\n",
              "            '<a target=\"_blank\" href=https://colab.research.google.com/notebooks/data_table.ipynb>data table notebook</a>'\n",
              "            + ' to learn more about interactive tables.';\n",
              "          element.innerHTML = '';\n",
              "          dataTable['output_type'] = 'display_data';\n",
              "          await google.colab.output.renderOutput(dataTable, element);\n",
              "          const docLink = document.createElement('div');\n",
              "          docLink.innerHTML = docLinkHtml;\n",
              "          element.appendChild(docLink);\n",
              "        }\n",
              "      </script>\n",
              "    </div>\n",
              "  </div>\n",
              "  "
            ]
          },
          "metadata": {},
          "execution_count": 3
        }
      ]
    },
    {
      "cell_type": "code",
      "source": [
        "#Classify data (target and attribute)\n",
        "Class = df.keys()[-1]\n",
        "inputs = df.drop(Class, axis=1)\n",
        "target = df[Class]\n",
        "print('Đầu vào là:\\n',inputs)\n",
        "print('Đầu ra là:\\n',target)"
      ],
      "metadata": {
        "colab": {
          "base_uri": "https://localhost:8080/"
        },
        "id": "4oenBeurwzpC",
        "outputId": "5254c723-b84e-48f8-943b-fed02e79eacf"
      },
      "execution_count": 5,
      "outputs": [
        {
          "output_type": "stream",
          "name": "stdout",
          "text": [
            "Đầu vào là:\n",
            "          Age Experience      Rank Nationality\n",
            "0   1_Middle   1_Medium  2_Expert          UK\n",
            "1   1_Middle     2_High  0_Normal         USA\n",
            "2    0_Young      0_Low    1_Good      Others\n",
            "3      2_Old      0_Low  0_Normal         USA\n",
            "4   1_Middle     2_High  2_Expert         USA\n",
            "5   1_Middle     2_High  0_Normal          UK\n",
            "6      2_Old      0_Low    1_Good      Others\n",
            "7    0_Young     2_High  2_Expert          UK\n",
            "8      2_Old     2_High    1_Good      Others\n",
            "9    0_Young      0_Low  2_Expert      Others\n",
            "10   0_Young      0_Low  0_Normal         USA\n",
            "11   0_Young      0_Low    1_Good          UK\n",
            "12     2_Old   1_Medium  2_Expert          UK\n",
            "Đầu ra là:\n",
            " 0     0\n",
            "1     0\n",
            "2     0\n",
            "3     0\n",
            "4     1\n",
            "5     0\n",
            "6     1\n",
            "7     1\n",
            "8     1\n",
            "9     1\n",
            "10    0\n",
            "11    1\n",
            "12    1\n",
            "Name: Go, dtype: int64\n"
          ]
        }
      ]
    },
    {
      "cell_type": "code",
      "source": [
        "#Transform data from String to Int\n",
        "Colunm1_Age = LabelEncoder()\n",
        "Colunm2_Exp = LabelEncoder()\n",
        "Colunm3_Rank = LabelEncoder()\n",
        "Colunm4_Nationality = LabelEncoder()\n",
        "\n",
        "inputs['Age_n'] = Colunm1_Age.fit_transform(inputs['Age'])\n",
        "inputs['Exp_n'] = Colunm1_Age.fit_transform(inputs['Experience'])\n",
        "inputs['Rank_n'] = Colunm1_Age.fit_transform(inputs['Rank'])\n",
        "inputs['Nation_n'] = Colunm1_Age.fit_transform(inputs['Nationality'])\n",
        "\n",
        "inputs_n = inputs.drop(['Age','Experience','Rank' ,'Nationality'], axis = 'columns')\n",
        "print('input la:\\n', inputs)\n",
        "print('input_n la:\\n', inputs_n)\n",
        "print('target la: \\n',target)\n",
        "print(df[Class].value_counts())"
      ],
      "metadata": {
        "colab": {
          "base_uri": "https://localhost:8080/"
        },
        "id": "DhBcn5Nzw9CH",
        "outputId": "aa989125-feab-466b-e4d6-2631e5ad5087"
      },
      "execution_count": 6,
      "outputs": [
        {
          "output_type": "stream",
          "name": "stdout",
          "text": [
            "input la:\n",
            "          Age Experience      Rank Nationality  Age_n  Exp_n  Rank_n  Nation_n\n",
            "0   1_Middle   1_Medium  2_Expert          UK      1      1       2         1\n",
            "1   1_Middle     2_High  0_Normal         USA      1      2       0         2\n",
            "2    0_Young      0_Low    1_Good      Others      0      0       1         0\n",
            "3      2_Old      0_Low  0_Normal         USA      2      0       0         2\n",
            "4   1_Middle     2_High  2_Expert         USA      1      2       2         2\n",
            "5   1_Middle     2_High  0_Normal          UK      1      2       0         1\n",
            "6      2_Old      0_Low    1_Good      Others      2      0       1         0\n",
            "7    0_Young     2_High  2_Expert          UK      0      2       2         1\n",
            "8      2_Old     2_High    1_Good      Others      2      2       1         0\n",
            "9    0_Young      0_Low  2_Expert      Others      0      0       2         0\n",
            "10   0_Young      0_Low  0_Normal         USA      0      0       0         2\n",
            "11   0_Young      0_Low    1_Good          UK      0      0       1         1\n",
            "12     2_Old   1_Medium  2_Expert          UK      2      1       2         1\n",
            "input_n la:\n",
            "     Age_n  Exp_n  Rank_n  Nation_n\n",
            "0       1      1       2         1\n",
            "1       1      2       0         2\n",
            "2       0      0       1         0\n",
            "3       2      0       0         2\n",
            "4       1      2       2         2\n",
            "5       1      2       0         1\n",
            "6       2      0       1         0\n",
            "7       0      2       2         1\n",
            "8       2      2       1         0\n",
            "9       0      0       2         0\n",
            "10      0      0       0         2\n",
            "11      0      0       1         1\n",
            "12      2      1       2         1\n",
            "target la: \n",
            " 0     0\n",
            "1     0\n",
            "2     0\n",
            "3     0\n",
            "4     1\n",
            "5     0\n",
            "6     1\n",
            "7     1\n",
            "8     1\n",
            "9     1\n",
            "10    0\n",
            "11    1\n",
            "12    1\n",
            "Name: Go, dtype: int64\n",
            "1    7\n",
            "0    6\n",
            "Name: Go, dtype: int64\n"
          ]
        }
      ]
    },
    {
      "cell_type": "code",
      "source": [
        "#Use sklearn Lib to Classify and predict\n",
        "classifier = DecisionTreeClassifier()\n",
        "classifier.fit(inputs_n, target)\n",
        "classifier.score(inputs_n, target)\n",
        "classifier.predict([[0,1,0,0]])\n",
        "\n",
        "predict_result = classifier.predict([[0,1,0,0]])\n",
        "if predict_result == 0:\n",
        "    result = \"ÍT KHÁN GIẢ - THẤT BẠI\"\n",
        "else:\n",
        "    result = \"NHIỀU KHÁN GIẢ - THÀNH CÔNG\"\n",
        "\n",
        "print('\\nDự đoán buổi biểu diễn khi có thông tin của một nghệ sĩ với [Age = Young, Experience = Medium, Rank = Normal, Nationality = Others] thì kết quả sẽ là: ',result,'\\n\\n\\n\\n')"
      ],
      "metadata": {
        "colab": {
          "base_uri": "https://localhost:8080/"
        },
        "id": "n8v10iqIxxRR",
        "outputId": "d3641fa5-0456-4b9f-bf19-51a5303b8f85"
      },
      "execution_count": 10,
      "outputs": [
        {
          "output_type": "stream",
          "name": "stdout",
          "text": [
            "\n",
            "Dự đoán buổi biểu diễn khi có thông tin của một nghệ sĩ với [Age = Young, Experience = Medium, Rank = Normal, Nationality = Others] thì kết quả sẽ là:  ÍT KHÁN GIẢ - THẤT BẠI \n",
            "\n",
            "\n",
            "\n",
            "\n"
          ]
        },
        {
          "output_type": "stream",
          "name": "stderr",
          "text": [
            "/usr/local/lib/python3.7/dist-packages/sklearn/base.py:451: UserWarning: X does not have valid feature names, but DecisionTreeClassifier was fitted with feature names\n",
            "  \"X does not have valid feature names, but\"\n",
            "/usr/local/lib/python3.7/dist-packages/sklearn/base.py:451: UserWarning: X does not have valid feature names, but DecisionTreeClassifier was fitted with feature names\n",
            "  \"X does not have valid feature names, but\"\n"
          ]
        }
      ]
    }
  ]
}